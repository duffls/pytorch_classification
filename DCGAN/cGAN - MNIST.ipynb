{
 "cells": [
  {
   "cell_type": "code",
   "execution_count": 1,
   "id": "324431a6",
   "metadata": {},
   "outputs": [],
   "source": [
    "import torchvision.datasets as datasets\n",
    "import os\n",
    "import torchvision.transforms as transforms\n",
    "from torch.utils.data import DataLoader\n",
    "from torchvision import utils\n",
    "import matplotlib.pyplot as plt\n",
    "import numpy as np\n",
    "import torch.nn as nn\n",
    "import torch\n",
    "import torch.nn.functional as F\n",
    "import time\n",
    "%matplotlib inline\n",
    "\n",
    "device = torch.device('cuda' if torch.cuda.is_available() else 'cpu')"
   ]
  },
  {
   "cell_type": "code",
   "execution_count": 2,
   "id": "b629a66d",
   "metadata": {},
   "outputs": [
    {
     "name": "stdout",
     "output_type": "stream",
     "text": [
      "Downloading http://yann.lecun.com/exdb/mnist/train-images-idx3-ubyte.gz\n",
      "Downloading http://yann.lecun.com/exdb/mnist/train-images-idx3-ubyte.gz to ./data\\MNIST\\raw\\train-images-idx3-ubyte.gz\n"
     ]
    },
    {
     "data": {
      "application/vnd.jupyter.widget-view+json": {
       "model_id": "f077e186d56c4709bc2ab852976091b5",
       "version_major": 2,
       "version_minor": 0
      },
      "text/plain": [
       "  0%|          | 0/9912422 [00:00<?, ?it/s]"
      ]
     },
     "metadata": {},
     "output_type": "display_data"
    },
    {
     "name": "stdout",
     "output_type": "stream",
     "text": [
      "Extracting ./data\\MNIST\\raw\\train-images-idx3-ubyte.gz to ./data\\MNIST\\raw\n",
      "\n",
      "Downloading http://yann.lecun.com/exdb/mnist/train-labels-idx1-ubyte.gz\n",
      "Downloading http://yann.lecun.com/exdb/mnist/train-labels-idx1-ubyte.gz to ./data\\MNIST\\raw\\train-labels-idx1-ubyte.gz\n"
     ]
    },
    {
     "data": {
      "application/vnd.jupyter.widget-view+json": {
       "model_id": "6997b661bc5940f39c787132f5d4075d",
       "version_major": 2,
       "version_minor": 0
      },
      "text/plain": [
       "  0%|          | 0/28881 [00:00<?, ?it/s]"
      ]
     },
     "metadata": {},
     "output_type": "display_data"
    },
    {
     "name": "stdout",
     "output_type": "stream",
     "text": [
      "Extracting ./data\\MNIST\\raw\\train-labels-idx1-ubyte.gz to ./data\\MNIST\\raw\n",
      "\n",
      "Downloading http://yann.lecun.com/exdb/mnist/t10k-images-idx3-ubyte.gz\n",
      "Downloading http://yann.lecun.com/exdb/mnist/t10k-images-idx3-ubyte.gz to ./data\\MNIST\\raw\\t10k-images-idx3-ubyte.gz\n"
     ]
    },
    {
     "data": {
      "application/vnd.jupyter.widget-view+json": {
       "model_id": "4bf4bd00fabb4dc092424e351c1e5c63",
       "version_major": 2,
       "version_minor": 0
      },
      "text/plain": [
       "  0%|          | 0/1648877 [00:00<?, ?it/s]"
      ]
     },
     "metadata": {},
     "output_type": "display_data"
    },
    {
     "name": "stdout",
     "output_type": "stream",
     "text": [
      "Extracting ./data\\MNIST\\raw\\t10k-images-idx3-ubyte.gz to ./data\\MNIST\\raw\n",
      "\n",
      "Downloading http://yann.lecun.com/exdb/mnist/t10k-labels-idx1-ubyte.gz\n",
      "Downloading http://yann.lecun.com/exdb/mnist/t10k-labels-idx1-ubyte.gz to ./data\\MNIST\\raw\\t10k-labels-idx1-ubyte.gz\n"
     ]
    },
    {
     "data": {
      "application/vnd.jupyter.widget-view+json": {
       "model_id": "6b04153995d64a81a83ef91a46f01ae8",
       "version_major": 2,
       "version_minor": 0
      },
      "text/plain": [
       "  0%|          | 0/4542 [00:00<?, ?it/s]"
      ]
     },
     "metadata": {},
     "output_type": "display_data"
    },
    {
     "name": "stdout",
     "output_type": "stream",
     "text": [
      "Extracting ./data\\MNIST\\raw\\t10k-labels-idx1-ubyte.gz to ./data\\MNIST\\raw\n",
      "\n"
     ]
    }
   ],
   "source": [
    "# 데이터 경로 지정\n",
    "path2data = './data'\n",
    "os.makedirs(path2data, exist_ok=True)\n",
    "\n",
    "# Transformation 정의\n",
    "train_transform = transforms.Compose([\n",
    "                        transforms.ToTensor(),\n",
    "                        transforms.Normalize([0.5],[0.5]),\n",
    "])\n",
    "\n",
    "# MNIST dataset 불러오기\n",
    "train_ds = datasets.MNIST(path2data, train=True, transform=train_transform, download=True)"
   ]
  },
  {
   "cell_type": "code",
   "execution_count": 3,
   "id": "4c5fef70",
   "metadata": {},
   "outputs": [
    {
     "data": {
      "image/png": "[encoded data removed]",
      "text/plain": [
       "<Figure size 432x288 with 1 Axes>"
      ]
     },
     "metadata": {
      "needs_background": "light"
     },
     "output_type": "display_data"
    }
   ],
   "source": [
    "# 샘플 이미지 확인하기\n",
    "img, label = train_ds.data, train_ds.targets\n",
    "\n",
    "# 차원 추가\n",
    "if len(img.shape) == 3:\n",
    "    img = img.unsqueeze(1) # B*C*H*W\n",
    "\n",
    "# 그리드 생성\n",
    "img_grid = utils.make_grid(img[:40], nrow=8, padding=2)\n",
    "\n",
    "def show(img):\n",
    "    npimg = img.numpy()\n",
    "    npimg_tr = npimg.transpose((1,2,0)) # [C,H,W] -> [H,W,C]\n",
    "    plt.imshow(npimg_tr, interpolation='nearest')\n",
    "\n",
    "show(img_grid)"
   ]
  },
  {
   "cell_type": "code",
   "execution_count": 4,
   "id": "28c31261",
   "metadata": {},
   "outputs": [],
   "source": [
    "# 데이터 로더 생성\n",
    "train_dl = DataLoader(train_ds, batch_size=64, shuffle=True)"
   ]
  },
  {
   "cell_type": "code",
   "execution_count": 5,
   "id": "063f4634",
   "metadata": {},
   "outputs": [],
   "source": [
    "# 파라미터 설정\n",
    "params = {'num_classes':10,\n",
    "          'nz':100,\n",
    "          'input_size':(1,28,28)}"
   ]
  },
  {
   "cell_type": "code",
   "execution_count": 6,
   "id": "f5430906",
   "metadata": {},
   "outputs": [
    {
     "name": "stdout",
     "output_type": "stream",
     "text": [
      "torch.Size([16, 1, 28, 28])\n"
     ]
    }
   ],
   "source": [
    "# Generator: 가짜 이미지를 생성합니다.\n",
    "# noise와 label을 결합하여 학습합니다..\n",
    "\n",
    "class Generator(nn.Module):\n",
    "    def __init__(self, params):\n",
    "        super().__init__()\n",
    "        self.num_classes = params['num_classes'] # 클래스 수, 10\n",
    "        self.nz = params['nz'] # 노이즈 수, 100\n",
    "        self.input_size = params['input_size'] # (1,28,28)\n",
    "\n",
    "        # noise와 label을 결합할 용도인 label embedding matrix를 생성합니다.\n",
    "        self.label_emb = nn.Embedding(self.num_classes, self.num_classes)\n",
    "\n",
    "        self.gen = nn.Sequential(\n",
    "            nn.Linear(self.nz + self.num_classes, 128),\n",
    "            nn.LeakyReLU(0.2),\n",
    "            nn.Linear(128,256),\n",
    "            nn.BatchNorm1d(256),\n",
    "            nn.LeakyReLU(0.2),\n",
    "            nn.Linear(256,512),\n",
    "            nn.BatchNorm1d(512),\n",
    "            nn.LeakyReLU(0.2),\n",
    "            nn.Linear(512,1024),\n",
    "            nn.BatchNorm1d(1024),\n",
    "            nn.LeakyReLU(0.2),\n",
    "            nn.Linear(1024,int(np.prod(self.input_size))),\n",
    "            nn.Tanh()\n",
    "        )\n",
    "\n",
    "    def forward(self, noise, labels):\n",
    "        # noise와 label 결합\n",
    "        gen_input = torch.cat((self.label_emb(labels),noise),-1)\n",
    "        x = self.gen(gen_input)\n",
    "        x = x.view(x.size(0), *self.input_size)\n",
    "        return x\n",
    "\n",
    "# check\n",
    "x = torch.randn(16,100,device=device) # 노이즈\n",
    "label = torch.randint(0,10,(16,),device=device) # 레이블\n",
    "model_gen = Generator(params).to(device)\n",
    "out_gen = model_gen(x,label) # 가짜 이미지 생성\n",
    "print(out_gen.shape)"
   ]
  },
  {
   "cell_type": "code",
   "execution_count": 7,
   "id": "7a117859",
   "metadata": {},
   "outputs": [
    {
     "name": "stdout",
     "output_type": "stream",
     "text": [
      "torch.Size([16, 1])\n"
     ]
    }
   ],
   "source": [
    "# Discriminator: 가짜 이미지와 진짜 이미지를 식별합니다.\n",
    "class Discriminator(nn.Module):\n",
    "    def __init__(self,params):\n",
    "        super().__init__()\n",
    "        self.input_size = params['input_size']\n",
    "        self.num_classes = params['num_classes']\n",
    "\n",
    "        self.label_embedding = nn.Embedding(self.num_classes, self.num_classes)\n",
    "\n",
    "        self.dis = nn.Sequential(\n",
    "            nn.Linear(self.num_classes+int(np.prod(self.input_size)),512),\n",
    "            nn.LeakyReLU(0.2),\n",
    "            nn.Linear(512,512),\n",
    "            nn.Dropout(0.4),\n",
    "            nn.LeakyReLU(0.2),\n",
    "            nn.Linear(512,512),\n",
    "            nn.Dropout(0.4),\n",
    "            nn.LeakyReLU(0.2),\n",
    "            nn.Linear(512,1),\n",
    "            nn.Sigmoid()\n",
    "        )\n",
    "\n",
    "    def forward(self, img, labels):\n",
    "        # 이미지와 label 결합\n",
    "        dis_input = torch.cat((img.view(img.size(0),-1),self.label_embedding(labels)),-1)\n",
    "\n",
    "        x = self.dis(dis_input)\n",
    "        return x\n",
    "\n",
    "# check\n",
    "x = torch.randn(16,1,28,28,device=device)\n",
    "label = torch.randint(0,10,(16,), device=device)\n",
    "model_dis = Discriminator(params).to(device)\n",
    "out_dis = model_dis(x,label)\n",
    "print(out_dis.shape)"
   ]
  },
  {
   "cell_type": "code",
   "execution_count": 8,
   "id": "12a4515a",
   "metadata": {},
   "outputs": [],
   "source": [
    "# 가중치 초기화\n",
    "def initialize_weights(model):\n",
    "    classname = model.__class__.__name__\n",
    "    # fc layer\n",
    "    if classname.find('Linear') != -1:\n",
    "        nn.init.normal_(model.weight.data, 0.0, 0.02)\n",
    "        nn.init.constant_(model.bias.data, 0)\n",
    "    # batchnorm\n",
    "    elif classname.find('BatchNorm') != -1:\n",
    "        nn.init.normal_(model.weight.data, 1.0, 0.02)\n",
    "        nn.init.constant_(model.bias.data, 0)\n",
    "\n",
    "# 가중치 초기화 적용\n",
    "model_gen.apply(initialize_weights);\n",
    "model_dis.apply(initialize_weights);"
   ]
  },
  {
   "cell_type": "code",
   "execution_count": 9,
   "id": "9cc1ad10",
   "metadata": {},
   "outputs": [],
   "source": [
    "# 손실 함수\n",
    "loss_func = nn.BCELoss()\n",
    "\n",
    "from torch import optim\n",
    "\n",
    "lr = 2e-4\n",
    "beta1 = 0.5\n",
    "beta2 = 0.999\n",
    "\n",
    "# optimization\n",
    "opt_dis = optim.Adam(model_dis.parameters(), lr=lr, betas=(beta1,beta2))\n",
    "opt_gen = optim.Adam(model_gen.parameters(), lr=lr, betas=(beta1,beta2))\n",
    "\n",
    "# 학습 파라미터\n",
    "nz = params['nz']\n",
    "num_epochs = 100\n",
    "\n",
    "loss_history={'gen':[],\n",
    "              'dis':[]}"
   ]
  },
  {
   "cell_type": "code",
   "execution_count": null,
   "id": "e91d6ab4",
   "metadata": {},
   "outputs": [
    {
     "name": "stdout",
     "output_type": "stream",
     "text": [
      "Epoch: 1, G_Loss: 1.412967, D_Loss: 0.352500, time: 0.26 min\n",
      "Epoch: 2, G_Loss: 1.864225, D_Loss: 0.498277, time: 0.52 min\n",
      "Epoch: 3, G_Loss: 2.811156, D_Loss: 0.686141, time: 0.78 min\n",
      "Epoch: 4, G_Loss: 1.108416, D_Loss: 0.390475, time: 1.04 min\n",
      "Epoch: 5, G_Loss: 1.565814, D_Loss: 0.432377, time: 1.30 min\n",
      "Epoch: 6, G_Loss: 1.398550, D_Loss: 0.386614, time: 1.56 min\n",
      "Epoch: 7, G_Loss: 1.432602, D_Loss: 0.337880, time: 1.83 min\n",
      "Epoch: 8, G_Loss: 2.083701, D_Loss: 0.378526, time: 2.09 min\n",
      "Epoch: 9, G_Loss: 1.508886, D_Loss: 0.281678, time: 2.36 min\n",
      "Epoch: 10, G_Loss: 2.019248, D_Loss: 0.357784, time: 2.63 min\n",
      "Epoch: 11, G_Loss: 0.506921, D_Loss: 0.731805, time: 2.89 min\n",
      "Epoch: 12, G_Loss: 2.114561, D_Loss: 0.405346, time: 3.15 min\n",
      "Epoch: 13, G_Loss: 2.552346, D_Loss: 0.172345, time: 3.42 min\n",
      "Epoch: 14, G_Loss: 1.920527, D_Loss: 0.228842, time: 3.68 min\n",
      "Epoch: 15, G_Loss: 2.165838, D_Loss: 0.205431, time: 3.95 min\n",
      "Epoch: 17, G_Loss: 1.331230, D_Loss: 0.293082, time: 4.21 min\n",
      "Epoch: 18, G_Loss: 2.280915, D_Loss: 0.309176, time: 4.47 min\n",
      "Epoch: 19, G_Loss: 2.007099, D_Loss: 0.211088, time: 4.73 min\n",
      "Epoch: 20, G_Loss: 1.571797, D_Loss: 0.423796, time: 5.00 min\n",
      "Epoch: 21, G_Loss: 2.040124, D_Loss: 0.293709, time: 5.26 min\n",
      "Epoch: 22, G_Loss: 2.855370, D_Loss: 0.242384, time: 5.52 min\n",
      "Epoch: 23, G_Loss: 2.592726, D_Loss: 0.260405, time: 5.79 min\n",
      "Epoch: 24, G_Loss: 2.914508, D_Loss: 0.163800, time: 6.05 min\n",
      "Epoch: 25, G_Loss: 1.670034, D_Loss: 0.322985, time: 6.31 min\n",
      "Epoch: 26, G_Loss: 2.781501, D_Loss: 0.213982, time: 6.57 min\n",
      "Epoch: 27, G_Loss: 2.212983, D_Loss: 0.368516, time: 6.84 min\n",
      "Epoch: 28, G_Loss: 2.407592, D_Loss: 0.420521, time: 7.10 min\n",
      "Epoch: 29, G_Loss: 1.672940, D_Loss: 0.363689, time: 7.37 min\n",
      "Epoch: 30, G_Loss: 2.378190, D_Loss: 0.262336, time: 7.63 min\n"
     ]
    }
   ],
   "source": [
    "# 학습\n",
    "batch_count = 0\n",
    "start_time = time.time()\n",
    "model_dis.train()\n",
    "model_gen.train()\n",
    "\n",
    "for epoch in range(num_epochs):\n",
    "    for xb, yb in train_dl:\n",
    "        ba_si = xb.shape[0]\n",
    "\n",
    "        xb = xb.to(device)\n",
    "        yb = yb.to(device)\n",
    "        yb_real = torch.Tensor(ba_si,1).fill_(1.0).to(device) # real_label\n",
    "        yb_fake = torch.Tensor(ba_si,1).fill_(0.0).to(device) # fake_label\n",
    "\n",
    "        # Genetator\n",
    "        model_gen.zero_grad()\n",
    "        noise = torch.randn(ba_si,100).to(device) # 노이즈 생성\n",
    "        gen_label = torch.randint(0,10,(ba_si,)).to(device) # label 생성\n",
    "\n",
    "        # 가짜 이미지 생성\n",
    "        out_gen = model_gen(noise, gen_label)\n",
    "\n",
    "        # 가짜 이미지 판별\n",
    "        out_dis = model_dis(out_gen, gen_label)\n",
    "\n",
    "        loss_gen = loss_func(out_dis, yb_real)\n",
    "        loss_gen.backward()\n",
    "        opt_gen.step()\n",
    "\n",
    "        # Discriminator\n",
    "        model_dis.zero_grad()\n",
    "        \n",
    "        # 진짜 이미지 판별\n",
    "        out_dis = model_dis(xb, yb)\n",
    "        loss_real = loss_func(out_dis, yb_real)\n",
    "\n",
    "        # 가짜 이미지 판별\n",
    "        out_dis = model_dis(out_gen.detach(),gen_label)\n",
    "        loss_fake = loss_func(out_dis,yb_fake)\n",
    "\n",
    "        loss_dis = (loss_real + loss_fake) / 2\n",
    "        loss_dis.backward()\n",
    "        opt_dis.step()\n",
    "\n",
    "        loss_history['gen'].append(loss_gen.item())\n",
    "        loss_history['dis'].append(loss_dis.item())\n",
    "\n",
    "        batch_count += 1\n",
    "        if batch_count % 1000 == 0:\n",
    "            print('Epoch: %.0f, G_Loss: %.6f, D_Loss: %.6f, time: %.2f min' %(epoch, loss_gen.item(), loss_dis.item(), (time.time()-start_time)/60))"
   ]
  },
  {
   "cell_type": "code",
   "execution_count": null,
   "id": "a7e748aa",
   "metadata": {},
   "outputs": [],
   "source": [
    "# plot loss history\n",
    "plt.figure(figsize=(10,5))\n",
    "plt.title('Loss Progress')\n",
    "plt.plot(loss_history['gen'], label='Gen. Loss')\n",
    "plt.plot(loss_history['dis'], label='Dis. Loss')\n",
    "plt.xlabel('batch count')\n",
    "plt.ylabel('Loss')\n",
    "plt.legend()\n",
    "plt.show()"
   ]
  },
  {
   "cell_type": "code",
   "execution_count": null,
   "id": "c52544ad",
   "metadata": {},
   "outputs": [],
   "source": [
    "weights = torch.load(path2weights_gen)\n",
    "model_gen.load_state_dict(weights)\n",
    "\n",
    "# evalutaion mode\n",
    "model_gen.eval()\n",
    "\n",
    "# fake image 생성\n",
    "with torch.no_grad():\n",
    "    fixed_noise = torch.randn(16, 100, device=device)\n",
    "    label = torch.randint(0,10,(16,), device=device)\n",
    "    img_fake = model_gen(fixed_noise, label).detach().cpu()\n",
    "print(img_fake.shape)"
   ]
  },
  {
   "cell_type": "code",
   "execution_count": null,
   "id": "cffb13a7",
   "metadata": {},
   "outputs": [],
   "source": [
    "plt.figure(figsize=(10,10))\n",
    "for ii in range(16):\n",
    "    plt.subplot(4,4,ii+1)\n",
    "    plt.imshow(to_pil_image(0.5*img_fake[ii]+0.5), cmap='gray')\n",
    "    plt.axis('off')"
   ]
  }
 ],
 "metadata": {
  "kernelspec": {
   "display_name": "Python 3 (ipykernel)",
   "language": "python",
   "name": "python3"
  },
  "language_info": {
   "codemirror_mode": {
    "name": "ipython",
    "version": 3
   },
   "file_extension": ".py",
   "mimetype": "text/x-python",
   "name": "python",
   "nbconvert_exporter": "python",
   "pygments_lexer": "ipython3",
   "version": "3.8.12"
  }
 },
 "nbformat": 4,
 "nbformat_minor": 5
}
